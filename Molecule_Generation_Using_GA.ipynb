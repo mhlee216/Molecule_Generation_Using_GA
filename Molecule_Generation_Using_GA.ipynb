{
 "cells": [
  {
   "cell_type": "code",
   "execution_count": 130,
   "metadata": {},
   "outputs": [],
   "source": [
    "import numpy as np\n",
    "import pandas as pd\n",
    "from rdkit import Chem\n",
    "from rdkit.Chem.Descriptors import MolLogP, TPSA, ExactMolWt\n",
    "import random\n",
    "import matplotlib.pyplot as plt\n",
    "from rdkit import RDLogger\n",
    "RDLogger.DisableLog('rdApp.*')"
   ]
  },
  {
   "cell_type": "code",
   "execution_count": 131,
   "metadata": {},
   "outputs": [],
   "source": [
    "# Need to develop\n",
    "gene_dict = {1 : 'CC', \n",
    "             2 : 'CCC', \n",
    "             3 : 'CCCC', \n",
    "             4 : 'CC(C)C', \n",
    "             5 : 'CC(C)O', \n",
    "             6 : 'COC', \n",
    "             7 : 'CC(C)N', \n",
    "             8 : 'CCN', \n",
    "             9 : 'CNC', \n",
    "             10 : 'CC(C)F', \n",
    "             11 : 'CCF', \n",
    "             12 : 'C1CC1', \n",
    "             13 : 'C1CCC1', \n",
    "             14 : 'C1CCCC1', \n",
    "             15 : 'C1CCCCC1', \n",
    "             16 : 'C1CCCCCC1', \n",
    "             17 : 'c1ccc1', \n",
    "             18 : 'c1ccccc1', \n",
    "             19 : '[C@@H]', \n",
    "             20 : 'C=C'}"
   ]
  },
  {
   "cell_type": "code",
   "execution_count": 132,
   "metadata": {},
   "outputs": [
    {
     "data": {
      "text/plain": [
       "20"
      ]
     },
     "execution_count": 132,
     "metadata": {},
     "output_type": "execute_result"
    }
   ],
   "source": [
    "n_residue = len(gene_dict)\n",
    "n_residue"
   ]
  },
  {
   "cell_type": "markdown",
   "metadata": {},
   "source": [
    "# Goals\n",
    "- LogP > 10\n",
    "- TPSA > 10\n",
    "- MW < 600"
   ]
  },
  {
   "cell_type": "markdown",
   "metadata": {},
   "source": [
    "# Gene String"
   ]
  },
  {
   "cell_type": "code",
   "execution_count": 133,
   "metadata": {},
   "outputs": [
    {
     "name": "stdout",
     "output_type": "stream",
     "text": [
      "['CCN', 'COC']\n",
      "['CCNCC(C)O', 'COCCNC']\n"
     ]
    }
   ],
   "source": [
    "gene = [gene_dict[random.randrange(1, n_residue+1)] for i in range(2)]\n",
    "print(gene)\n",
    "gene = [p+gene_dict[random.randrange(1, n_residue+1)] for p in gene]\n",
    "print(gene)"
   ]
  },
  {
   "cell_type": "code",
   "execution_count": 134,
   "metadata": {},
   "outputs": [],
   "source": [
    "def make_gen(num):\n",
    "    return [gene_dict[random.randrange(1, n_residue+1)] for i in range(num)]"
   ]
  },
  {
   "cell_type": "code",
   "execution_count": 135,
   "metadata": {},
   "outputs": [],
   "source": [
    "def next_gen(pop):\n",
    "    return [p+gene_dict[random.randrange(1, n_residue+1)] for p in pop]"
   ]
  },
  {
   "cell_type": "code",
   "execution_count": 136,
   "metadata": {},
   "outputs": [],
   "source": [
    "def natural_selection(pop, l, t, m):\n",
    "    n_pop = next_gen(pop)\n",
    "    next_pop = []\n",
    "    for p in n_pop:\n",
    "        try:\n",
    "            logp = MolLogP(Chem.MolFromSmiles(p))\n",
    "            tpsa = TPSA(Chem.MolFromSmiles(p))\n",
    "            mw = ExactMolWt(Chem.MolFromSmiles(p))\n",
    "            if logp >= l:\n",
    "                if tpsa >= t:\n",
    "                    if mw <= m:\n",
    "                        next_pop.append(p)\n",
    "        except:\n",
    "            continue\n",
    "    print(len(next_pop))\n",
    "    return next_pop"
   ]
  },
  {
   "cell_type": "code",
   "execution_count": 137,
   "metadata": {},
   "outputs": [],
   "source": [
    "first_pop_num = 5000\n",
    "new_gen_num = 2000"
   ]
  },
  {
   "cell_type": "code",
   "execution_count": 138,
   "metadata": {},
   "outputs": [
    {
     "name": "stdout",
     "output_type": "stream",
     "text": [
      "269\n",
      "182\n",
      "115\n",
      "73\n",
      "51\n",
      "38\n",
      "33\n",
      "16\n",
      "7\n"
     ]
    }
   ],
   "source": [
    "population = make_gen(first_pop_num)\n",
    "population = natural_selection(population, 2, 5, 600) + make_gen(new_gen_num)\n",
    "population = natural_selection(population, 3, 5, 600) + make_gen(new_gen_num)\n",
    "population = natural_selection(population, 4, 5, 600) + make_gen(new_gen_num)\n",
    "population = natural_selection(population, 5, 5, 600) + make_gen(new_gen_num)\n",
    "population = natural_selection(population, 6, 5, 600) + make_gen(new_gen_num)\n",
    "population = natural_selection(population, 7, 5, 600) + make_gen(new_gen_num)\n",
    "population = natural_selection(population, 8, 5, 600) + make_gen(new_gen_num)\n",
    "population = natural_selection(population, 9, 10, 600) + make_gen(new_gen_num)\n",
    "population = natural_selection(population, 10, 10, 600)"
   ]
  },
  {
   "cell_type": "code",
   "execution_count": 139,
   "metadata": {},
   "outputs": [
    {
     "data": {
      "text/plain": [
       "7"
      ]
     },
     "execution_count": 139,
     "metadata": {},
     "output_type": "execute_result"
    }
   ],
   "source": [
    "len(population)"
   ]
  },
  {
   "cell_type": "code",
   "execution_count": 140,
   "metadata": {},
   "outputs": [
    {
     "name": "stdout",
     "output_type": "stream",
     "text": [
      "SMILES \t\t LogP \t\t TPSA \t\t MW\n",
      "CCNc1ccccc1C1CCCC1C1CCCCCC1C1CCCC1C1CC1C=CC1CCCC1COCCC(C)F \t\t 10.99 \t\t 21.26 \t\t 591.48\n",
      "CC(C)OC1CCCCC1C1CCCCC1COCC1CCCCCC1[C@@H]CCCCCC(C)CCC(C)OCOC \t\t 10.57 \t\t 36.92 \t\t 591.54\n",
      "C1CCCCCC1CC(C)NCC(C)CCC(C)CC1CCCCCC1CCNC=CC1CCCCC1C1CCC1C=C \t\t 11.48 \t\t 24.06 \t\t 594.59\n",
      "C1CCCCCC1CNCC1CCCC1C1CCCCCC1CC[C@@H]C1CCCCCC1c1ccc1CC(C)CCNC \t\t 10.84 \t\t 24.06 \t\t 591.56\n",
      "CNCC1CCCCCC1C1CCC1C1CCCCC1c1ccc1CCCC[C@@H]CCCC1CCCCCC1CCCC \t\t 12.42 \t\t 12.03 \t\t 590.57\n",
      "CCNC1CCCCCC1C1CCCCC1C1CCCC1CC[C@@H]CCCC1CCCCCC1C1CCC1C1CC1 \t\t 11.55 \t\t 12.03 \t\t 564.55\n",
      "CC(C)Oc1ccccc1C1CCC1c1ccccc1c1ccc1C1CCCCC1CNCC=CC1CCCCC1CC \t\t 10.63 \t\t 21.26 \t\t 577.43\n"
     ]
    }
   ],
   "source": [
    "print('SMILES \\t\\t LogP \\t\\t TPSA \\t\\t MW')\n",
    "for p in population:\n",
    "    print(p, '\\t\\t',\n",
    "          round(MolLogP(Chem.MolFromSmiles(p)), 2), '\\t\\t', \n",
    "          round(TPSA(Chem.MolFromSmiles(p)), 2), '\\t\\t', \n",
    "          round(ExactMolWt(Chem.MolFromSmiles(p)), 2))"
   ]
  },
  {
   "cell_type": "markdown",
   "metadata": {},
   "source": [
    "# Gene List"
   ]
  },
  {
   "cell_type": "code",
   "execution_count": 141,
   "metadata": {},
   "outputs": [
    {
     "name": "stdout",
     "output_type": "stream",
     "text": [
      "[[19], [6]]\n",
      "[C@@H]\n",
      "[[19, 19], [6, 6]]\n",
      "[C@@H][C@@H]\n"
     ]
    }
   ],
   "source": [
    "gene = [[random.randrange(1, n_residue+1)], [random.randrange(1, n_residue+1)]]\n",
    "print(gene)\n",
    "pheno = gene_dict[gene[0][0]]\n",
    "print(pheno)\n",
    "gene = [gene[0]+[random.randrange(1, n_residue+1)], gene[1]+[random.randrange(1, n_residue+1)]]\n",
    "print(gene)\n",
    "pheno = phenotype(gene)\n",
    "print(pheno)"
   ]
  },
  {
   "cell_type": "code",
   "execution_count": 142,
   "metadata": {},
   "outputs": [],
   "source": [
    "def first_gen(num):\n",
    "    return [[[random.randrange(1, n_residue+1)], [random.randrange(1, n_residue+1)]] for i in range(num)]"
   ]
  },
  {
   "cell_type": "code",
   "execution_count": 143,
   "metadata": {},
   "outputs": [],
   "source": [
    "def make_gen(num, gene_num):\n",
    "    return [[[random.randrange(1, n_residue+1) for g in range(gene_num)], [random.randrange(1, n_residue+1) for g in range(gene_num)]] for i in range(num)]"
   ]
  },
  {
   "cell_type": "code",
   "execution_count": 144,
   "metadata": {},
   "outputs": [],
   "source": [
    "def next_gen(pop):\n",
    "    return [[gene[0]+[random.randrange(1, n_residue+1)], gene[1]+[random.randrange(1, n_residue+1)]] for gene in pop]"
   ]
  },
  {
   "cell_type": "code",
   "execution_count": 145,
   "metadata": {},
   "outputs": [],
   "source": [
    "def phenotype(gene):\n",
    "    smiles = ''\n",
    "    for i in gene[0]:\n",
    "        smiles += gene_dict[i]\n",
    "    return smiles"
   ]
  },
  {
   "cell_type": "code",
   "execution_count": 146,
   "metadata": {},
   "outputs": [],
   "source": [
    "# Need to develop\n",
    "def natural_selection(pop, l, t, m):\n",
    "    n_pop = next_gen(pop)\n",
    "    next_pop = []\n",
    "    for gene in n_pop:\n",
    "        try:\n",
    "            logp = MolLogP(Chem.MolFromSmiles(phenotype(gene)))\n",
    "            tpsa = TPSA(Chem.MolFromSmiles(phenotype(gene)))\n",
    "            mw = ExactMolWt(Chem.MolFromSmiles(phenotype(gene)))\n",
    "            if logp >= l:\n",
    "                if tpsa >= t:\n",
    "                    if mw <= m:\n",
    "                        next_pop.append(gene)\n",
    "        except:\n",
    "            continue\n",
    "    return next_pop"
   ]
  },
  {
   "cell_type": "code",
   "execution_count": 147,
   "metadata": {},
   "outputs": [
    {
     "name": "stdout",
     "output_type": "stream",
     "text": [
      "1\n",
      "2\n",
      "3\n",
      "4\n",
      "5\n",
      "6\n",
      "7\n"
     ]
    }
   ],
   "source": [
    "# Need to develop\n",
    "generation = 7\n",
    "logp = [2, 2, 3, 5, 6, 7, 8, 10]\n",
    "tpsa = [5, 5, 5, 5, 5, 5, 10, 10]\n",
    "mw = [600, 600, 600, 600, 600, 600, 600, 600]\n",
    "\n",
    "pop_list = []\n",
    "population = first_gen(first_pop_num)\n",
    "for i in range(generation):\n",
    "    print(i+1)\n",
    "    if i+1 != generation:\n",
    "        population = natural_selection(population, logp[i], tpsa[i], mw[i])\n",
    "        pop_list.append(len(population))\n",
    "        population += make_gen(new_gen_num, i+1)\n",
    "    else:\n",
    "        population = natural_selection(population, logp[i], tpsa[i], mw[i])\n",
    "        pop_list.append(len(population))"
   ]
  },
  {
   "cell_type": "code",
   "execution_count": 148,
   "metadata": {},
   "outputs": [
    {
     "data": {
      "image/png": "[encoded data removed]",
      "text/plain": [
       "<Figure size 432x288 with 1 Axes>"
      ]
     },
     "metadata": {
      "needs_background": "light"
     },
     "output_type": "display_data"
    }
   ],
   "source": [
    "plt.plot(pop_list, c='dodgerblue')\n",
    "plt.plot([0, generation-1], [0, 0], c='gray')\n",
    "plt.xlabel('Generation')\n",
    "plt.ylabel('Number of Population')\n",
    "plt.show()"
   ]
  },
  {
   "cell_type": "code",
   "execution_count": 149,
   "metadata": {},
   "outputs": [
    {
     "name": "stdout",
     "output_type": "stream",
     "text": [
      "C1CCCCCC1CNCC1CCCCC1CCCCCCCCCCCC1CCCCCC1CC(C)C \t\t 11.89 \t\t 12.03 \t\t 529.56\n",
      "C1CCCCCC1CC(C)Nc1ccccc1C1CCC1CCCCCCCCCC(C)CCNC \t\t 10.1 \t\t 24.06 \t\t 496.48\n",
      "CC(C)Oc1ccccc1C1CCCCCC1c1ccccc1c1ccccc1C1CCCCCC1CCNc1ccccc1 \t\t 12.14 \t\t 21.26 \t\t 599.41\n",
      "CC(C)OC1CCCCCC1C=CCCCCC1CCCCCC1CC(C)N[C@@H]C1CCCCCC1 \t\t 10.17 \t\t 21.26 \t\t 500.48\n",
      "C1CCCCCC1CC(C)OCC(C)OC1CCCCCC1C1CCCCC1C1CCCC1CNCC1CCCCC1 \t\t 10.5 \t\t 30.49 \t\t 585.55\n",
      "C1CCCCCC1CC(C)NC1CCCCC1CCCCC1CCCCC1CC(C)OC1CC1CCC \t\t 10.23 \t\t 21.26 \t\t 515.51\n",
      "CNCC1CCCCCC1CCCC1CCCC1CC(C)CC1CCCCCC1c1ccc1CC(C)C \t\t 10.51 \t\t 12.03 \t\t 509.5\n",
      "CC(C)NC1CCCCCC1C1CCCCCC1[C@@H]C1CC1C1CCCCCC1CCCCCCF \t\t 10.09 \t\t 12.03 \t\t 502.48\n",
      "C1CCCCCC1C1CCC1CNCC1CCCCCC1c1ccccc1C1CCCCCC1c1ccc1 \t\t 10.1 \t\t 12.03 \t\t 513.43\n",
      "C1CCCCC1C1CCCCC1c1ccccc1CC(C)OCOCC1CCCCC1C1CCCCCC1 \t\t 10.24 \t\t 18.46 \t\t 522.44\n",
      "C1CCCCCC1CC(C)NC1CC1C1CCCC1CCCCC1CCCCCC1C1CCCCCC1 \t\t 10.86 \t\t 12.03 \t\t 511.51\n",
      "c1ccccc1CCCCCC(C)CCC(C)Nc1ccccc1C1CCCCCC1C1CCCC1 \t\t 10.56 \t\t 12.03 \t\t 487.42\n",
      "c1ccccc1c1ccccc1C1CCCCCC1C1CCCCCC1CC(C)NC1CCC1CCCC \t\t 10.55 \t\t 12.03 \t\t 513.43\n",
      "CCCCC(C)Nc1ccccc1C1CCCCC1c1ccccc1C1CCCCCC1CCF \t\t 10.14 \t\t 12.03 \t\t 477.38\n",
      "CC(C)Nc1ccccc1CCCCc1ccccc1C1CCCCCC1CC(C)CC1CCCC1 \t\t 10.34 \t\t 12.03 \t\t 487.42\n",
      "C1CCCCC1CCCCCC(C)Nc1ccccc1C1CCCCCC1C1CCCC1c1ccccc1 \t\t 11.27 \t\t 12.03 \t\t 513.43\n",
      "C1CCCCCC1c1ccccc1C1CCC1C1CCCC1CC(C)CCC(C)Nc1ccccc1 \t\t 10.34 \t\t 12.03 \t\t 485.4\n",
      "C1CCCCCC1CCCCCCCCCCC1CCCCCC1C1CCCCCC1CNC \t\t 10.47 \t\t 12.03 \t\t 473.5\n",
      "CC(C)NC1CCC1C1CCCCCC1CCCCc1ccccc1C1CCCC1C1CCCCCC1 \t\t 10.23 \t\t 12.03 \t\t 505.46\n",
      "CCCCC(C)CC1CCCCC1C1CCCCCC1C1CCCCCC1CCNC1CCCCC1 \t\t 10.71 \t\t 12.03 \t\t 499.51\n",
      "C1CCCCCC1c1ccccc1CCNC1CCCCC1C1CCCCC1C1CCC1C1CCCCC1 \t\t 10.23 \t\t 12.03 \t\t 517.46\n"
     ]
    }
   ],
   "source": [
    "survived = []\n",
    "l, t, m = 10, 10, 600\n",
    "for gene in population:\n",
    "    logp = MolLogP(Chem.MolFromSmiles(phenotype(gene)))\n",
    "    tpsa = TPSA(Chem.MolFromSmiles(phenotype(gene)))\n",
    "    mw = ExactMolWt(Chem.MolFromSmiles(phenotype(gene)))\n",
    "    if logp >= l:\n",
    "        if tpsa >= t:\n",
    "            if mw <= m:\n",
    "                print(phenotype(gene), '\\t\\t', \n",
    "                      round(logp, 2), '\\t\\t', \n",
    "                      round(tpsa, 2), '\\t\\t', \n",
    "                      round(mw, 2))\n",
    "                survived.append(gene)"
   ]
  },
  {
   "cell_type": "code",
   "execution_count": 150,
   "metadata": {},
   "outputs": [
    {
     "data": {
      "text/plain": [
       "21"
      ]
     },
     "execution_count": 150,
     "metadata": {},
     "output_type": "execute_result"
    }
   ],
   "source": [
    "len(survived)"
   ]
  },
  {
   "cell_type": "code",
   "execution_count": null,
   "metadata": {},
   "outputs": [],
   "source": []
  }
 ],
 "metadata": {
  "kernelspec": {
   "display_name": "Python 3",
   "language": "python",
   "name": "python3"
  },
  "language_info": {
   "codemirror_mode": {
    "name": "ipython",
    "version": 3
   },
   "file_extension": ".py",
   "mimetype": "text/x-python",
   "name": "python",
   "nbconvert_exporter": "python",
   "pygments_lexer": "ipython3",
   "version": "3.6.12"
  }
 },
 "nbformat": 4,
 "nbformat_minor": 4
}
